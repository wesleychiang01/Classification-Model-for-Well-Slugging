{
 "cells": [
  {
   "cell_type": "code",
   "execution_count": 1,
   "id": "4b38aa27",
   "metadata": {},
   "outputs": [
    {
     "name": "stdout",
     "output_type": "stream",
     "text": [
      "      OilRate (STB/D)  WaterRate (STB/D)  GasLiftRate (MSCF/D)  \\\n",
      "0         3920.784161       12204.439390              2.089083   \n",
      "1         2051.867189        6713.476024              4.399820   \n",
      "2         2049.016826        6745.575105              4.801457   \n",
      "3         3783.799365        1722.480292              4.690580   \n",
      "4         2142.669721        3799.969720              4.542135   \n",
      "...               ...                ...                   ...   \n",
      "1399      4799.947307       11190.847890              2.525553   \n",
      "1400      2976.353900        5377.288845              3.840982   \n",
      "1401       997.470933        8220.471508              4.092885   \n",
      "1402      1561.399714        3716.799000              4.227858   \n",
      "1403      1245.450039        6180.700150              3.710784   \n",
      "\n",
      "      GasRate (MSCF/D)  LiquidRate (STB/D)   WCUT (%)  GLR (SCF/STB)  \\\n",
      "0             3.675797        16125.223550  75.685397     227.953250   \n",
      "1             3.435077         8765.343213  76.591137     391.893085   \n",
      "2             3.411905         8794.591931  76.701400     387.954863   \n",
      "3             3.050483         5506.279657  31.282107     554.000807   \n",
      "4             2.421879         5942.639441  63.944141     407.542639   \n",
      "...                ...                 ...        ...            ...   \n",
      "1399         25.528334        15990.795200  69.983061    1596.439303   \n",
      "1400          1.914488         8353.642745  64.370587     229.179979   \n",
      "1401          0.285312         9217.942441  89.179028      30.951787   \n",
      "1402          1.528679         5278.198714  70.417944     289.621384   \n",
      "1403          3.325152         7426.150189  83.228860     447.762583   \n",
      "\n",
      "      FWHP (Psi)  Tubing ID (Inch)  FWHT (DegC)  \n",
      "0     338.948286               7.0    71.751739  \n",
      "1     235.754637               5.5    58.392460  \n",
      "2     338.803825               5.5    64.881363  \n",
      "3     511.428640               5.5    47.631031  \n",
      "4     274.346168               5.5    38.498516  \n",
      "...          ...               ...          ...  \n",
      "1399  421.796479               5.5    60.822460  \n",
      "1400  375.735556               5.5    55.077442  \n",
      "1401  296.615917               5.5    64.568550  \n",
      "1402  339.780523               5.5    54.847000  \n",
      "1403  271.579732               5.5    57.362469  \n",
      "\n",
      "[1404 rows x 10 columns]\n"
     ]
    }
   ],
   "source": [
    "import pandas as pd\n",
    "df = pd.read_csv('Dataset/complete_well_data.csv')\n",
    "x = df[['OilRate (STB/D)', 'WaterRate (STB/D)','GasLiftRate (MSCF/D)', 'GasRate (MSCF/D)', 'LiquidRate (STB/D)', 'WCUT (%)', 'GLR (SCF/STB)','FWHP (Psi)', 'Tubing ID (Inch)', 'FWHT (DegC)']]\n",
    "print(x)"
   ]
  },
  {
   "cell_type": "code",
   "execution_count": 10,
   "id": "a02cf790",
   "metadata": {},
   "outputs": [
    {
     "name": "stdout",
     "output_type": "stream",
     "text": [
      "['Non-sluggish' 'Sluggish' 'Sluggish' ... 'Non-sluggish' 'Sluggish'\n",
      " 'Sluggish']\n"
     ]
    },
    {
     "data": {
      "text/plain": [
       "array([0.17, 0.96, 0.92, ..., 0.14, 1.  , 0.92])"
      ]
     },
     "execution_count": 10,
     "metadata": {},
     "output_type": "execute_result"
    }
   ],
   "source": [
    "import pickle\n",
    "model=pickle.load(open('ModelArchive/model_pkl','rb'))\n",
    "\n",
    "predictions=model.predict(x)\n",
    "Sluggish_value=model.predict_proba(x)[:,1]\n",
    "pred = predictions.map({'Non-sluggish': 0, 'Sluggish': 1}).astype(int)\n",
    "print(predictions)\n",
    "Sluggish_value"
   ]
  },
  {
   "cell_type": "code",
   "execution_count": 5,
   "id": "9816f42b",
   "metadata": {},
   "outputs": [],
   "source": [
    "import csv\n",
    "df1 = pd. DataFrame(predictions)\n",
    "df2 = pd. DataFrame(Sluggish_value)\n",
    "#data.to_csv('data.csv', index = False)"
   ]
  },
  {
   "cell_type": "code",
   "execution_count": 6,
   "id": "65553510",
   "metadata": {},
   "outputs": [],
   "source": [
    "writer = pd.ExcelWriter('Dataset/Status.xlsx')\n",
    "df1.to_excel(writer)\n",
    "writer2 = pd.ExcelWriter('Dataset/Sluggish.xlsx')\n",
    "df1.to_excel(writer2)"
   ]
  },
  {
   "cell_type": "code",
   "execution_count": 15,
   "id": "9e5e8b7d",
   "metadata": {},
   "outputs": [],
   "source": [
    "import csv\n",
    "\n",
    "# open the file in the write mode\n",
    "f = open('Dataset/Status.csv', 'w')\n",
    "\n",
    "# create the csv writer\n",
    "writer = csv.writer(f)\n",
    "\n",
    "# write a row to the csv file\n",
    "for i in predictions:\n",
    "    writer.writerow([i])\n",
    "\n",
    "# close the file\n",
    "f.close()"
   ]
  },
  {
   "cell_type": "code",
   "execution_count": 18,
   "id": "39721662",
   "metadata": {},
   "outputs": [],
   "source": [
    "import csv\n",
    "\n",
    "# open the file in the write mode\n",
    "f = open('Dataset/Sluggish.csv', 'w')\n",
    "\n",
    "# create the csv writer\n",
    "writer = csv.writer(f)\n",
    "\n",
    "# write a row to the csv file\n",
    "for i in Sluggish_value:\n",
    "    writer.writerow([i])\n",
    "\n",
    "# close the file\n",
    "f.close()"
   ]
  },
  {
   "cell_type": "code",
   "execution_count": null,
   "id": "d7c51fc3",
   "metadata": {},
   "outputs": [],
   "source": [
    "import csv\n",
    "\n",
    "# open the file in the write mode\n",
    "f = open('Dataset/Sluggish.csv', 'w')\n",
    "\n",
    "# create the csv writer\n",
    "writer = csv.writer(f)\n",
    "\n",
    "# write a row to the csv file\n",
    "for i in Sluggish_value:\n",
    "    writer.writerow([i])\n",
    "\n",
    "# close the file\n",
    "f.close()"
   ]
  }
 ],
 "metadata": {
  "kernelspec": {
   "display_name": "Python 3 (ipykernel)",
   "language": "python",
   "name": "python3"
  },
  "language_info": {
   "codemirror_mode": {
    "name": "ipython",
    "version": 3
   },
   "file_extension": ".py",
   "mimetype": "text/x-python",
   "name": "python",
   "nbconvert_exporter": "python",
   "pygments_lexer": "ipython3",
   "version": "3.9.12"
  }
 },
 "nbformat": 4,
 "nbformat_minor": 5
}
